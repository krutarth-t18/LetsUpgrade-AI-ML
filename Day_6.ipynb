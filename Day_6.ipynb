{
 "cells": [
  {
   "cell_type": "code",
   "execution_count": 1,
   "metadata": {},
   "outputs": [
    {
     "name": "stdout",
     "output_type": "stream",
     "text": [
      "enter mail id =krutarth@gmail.com\n",
      "gmail"
     ]
    }
   ],
   "source": [
    "i=input(\"enter mail id =\")\n",
    "x=i.index(\"@\")\n",
    "print(i[x+1:len(i)-4],end='')"
   ]
  },
  {
   "cell_type": "code",
   "execution_count": 4,
   "metadata": {},
   "outputs": [
    {
     "name": "stdout",
     "output_type": "stream",
     "text": [
      "Input separated sequence of words: banana,chiku,graps,apple\n",
      "apple,banana,chiku,graps\n"
     ]
    }
   ],
   "source": [
    "items = input(\"Input separated sequence of words: \")\n",
    "words = [word for word in items.split(\",\")]\n",
    "print(\",\".join(sorted(list(set(words)))))"
   ]
  },
  {
   "cell_type": "code",
   "execution_count": 11,
   "metadata": {},
   "outputs": [
    {
     "name": "stdout",
     "output_type": "stream",
     "text": [
      "2\n"
     ]
    }
   ],
   "source": [
    "def finemissingno(i):\n",
    "    n = len(i) \n",
    "    total = (n + 1)*(n + 2)/2\n",
    "    sum_of_i = sum(i) \n",
    "    return total - sum_of_i\n",
    "i = [1,3,4,5,6] \n",
    "miss = finemissingno(i)\n",
    "print(int(miss))"
   ]
  },
  {
   "cell_type": "code",
   "execution_count": 12,
   "metadata": {},
   "outputs": [
    {
     "name": "stdout",
     "output_type": "stream",
     "text": [
      "[2, 3, 4, 7, 8]\n"
     ]
    }
   ],
   "source": [
    "def Remove(duplicate): \n",
    "    final_list = [] \n",
    "    for num in duplicate: \n",
    "        if num not in final_list: \n",
    "            final_list.append(num) \n",
    "    return final_list \n",
    "duplicate = [2,2,3,3,4,4,7,7,8] \n",
    "print(Remove(duplicate))"
   ]
  },
  {
   "cell_type": "markdown",
   "metadata": {},
   "source": [
    "# SET\n",
    "A set is a collection which is data which is unordered and unindexed.\n",
    "Let see with example"
   ]
  },
  {
   "cell_type": "code",
   "execution_count": 7,
   "metadata": {},
   "outputs": [
    {
     "name": "stdout",
     "output_type": "stream",
     "text": [
      "{'banana', 'apple', 'ball'}\n"
     ]
    }
   ],
   "source": [
    "l = {\"apple\", \"banana\", \"ball\"}\n",
    "print(l)"
   ]
  },
  {
   "cell_type": "markdown",
   "metadata": {},
   "source": [
    "As we can see the set is unordered in which order we give it it directly print it."
   ]
  },
  {
   "cell_type": "markdown",
   "metadata": {},
   "source": [
    "# Access Items\n",
    "we cannot access items in a set by referring to an index, since sets are unordered.\n",
    "\n",
    "But we can use loop through the set items using a for loop.\n",
    "\n",
    "        let see the example"
   ]
  },
  {
   "cell_type": "code",
   "execution_count": 8,
   "metadata": {},
   "outputs": [
    {
     "name": "stdout",
     "output_type": "stream",
     "text": [
      "banana\n",
      "apple\n",
      "ball\n"
     ]
    }
   ],
   "source": [
    "l = {\"apple\", \"banana\", \"ball\"}\n",
    "for x in l:\n",
    "     print(x)"
   ]
  },
  {
   "cell_type": "markdown",
   "metadata": {},
   "source": [
    "# Change Items\n",
    "Once we created the set then we cannot its items but we can add new items.\n",
    "\n",
    "Add Items:- \n",
    "To add a item to a set we use add() method.\n",
    "\n",
    "To add more than one item to a set we can use update() method."
   ]
  },
  {
   "cell_type": "markdown",
   "metadata": {},
   "source": [
    "\n",
    "# let see the example\n",
    "Add an item to a set by using the add() method."
   ]
  },
  {
   "cell_type": "code",
   "execution_count": 9,
   "metadata": {},
   "outputs": [
    {
     "name": "stdout",
     "output_type": "stream",
     "text": [
      "{'music', 'computer', 'video', 'game'}\n"
     ]
    }
   ],
   "source": [
    "l = {\"music\", \"video\", \"game\"}\n",
    "l.add(\"computer\")\n",
    "print(l)"
   ]
  },
  {
   "cell_type": "markdown",
   "metadata": {},
   "source": [
    "# let as see the example\n",
    "to add more than one item to a set we will use update() meathod."
   ]
  },
  {
   "cell_type": "code",
   "execution_count": 10,
   "metadata": {},
   "outputs": [
    {
     "name": "stdout",
     "output_type": "stream",
     "text": [
      "{'movie', 'music', 'image', 'video', 'game'}\n"
     ]
    }
   ],
   "source": [
    "l = {\"music\", \"video\", \"game\"}\n",
    "l.update([\"movie\",\"image\",\"video\"])\n",
    "print(l)"
   ]
  },
  {
   "cell_type": "markdown",
   "metadata": {},
   "source": [
    "like this there is many type of set we can use.\n",
    "\n",
    "    thank you."
   ]
  },
  {
   "cell_type": "code",
   "execution_count": null,
   "metadata": {},
   "outputs": [],
   "source": []
  }
 ],
 "metadata": {
  "kernelspec": {
   "display_name": "Python 3",
   "language": "python",
   "name": "python3"
  },
  "language_info": {
   "codemirror_mode": {
    "name": "ipython",
    "version": 3
   },
   "file_extension": ".py",
   "mimetype": "text/x-python",
   "name": "python",
   "nbconvert_exporter": "python",
   "pygments_lexer": "ipython3",
   "version": "3.8.3"
  }
 },
 "nbformat": 4,
 "nbformat_minor": 4
}
