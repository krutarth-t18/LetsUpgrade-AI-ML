{
 "cells": [
  {
   "cell_type": "code",
   "execution_count": 18,
   "metadata": {},
   "outputs": [
    {
     "name": "stdout",
     "output_type": "stream",
     "text": [
      "[[[0.72185051 0.0813029  0.20847016]\n",
      "  [0.44239662 0.68053863 0.78996723]\n",
      "  [0.47765089 0.2469447  0.35921681]]\n",
      "\n",
      " [[0.46891511 0.56328267 0.28427656]\n",
      "  [0.32672663 0.09320781 0.52066266]\n",
      "  [0.03352182 0.25721694 0.67289189]]\n",
      "\n",
      " [[0.28301661 0.76105731 0.61165175]\n",
      "  [0.91760995 0.19794943 0.83401442]\n",
      "  [0.87008493 0.849268   0.60464926]]]\n"
     ]
    }
   ],
   "source": [
    "import numpy as np\n",
    "x = np.random.random((3,3,3))\n",
    "print(x)"
   ]
  },
  {
   "cell_type": "code",
   "execution_count": 17,
   "metadata": {},
   "outputs": [
    {
     "name": "stdout",
     "output_type": "stream",
     "text": [
      "[[1 0 0 0 0]\n",
      " [0 2 0 0 0]\n",
      " [0 0 3 0 0]\n",
      " [0 0 0 4 0]\n",
      " [0 0 0 0 5]]\n"
     ]
    }
   ],
   "source": [
    "x = np.diag([1, 2, 3, 4, 5])\n",
    "print(x)"
   ]
  },
  {
   "cell_type": "code",
   "execution_count": 16,
   "metadata": {},
   "outputs": [
    {
     "name": "stdout",
     "output_type": "stream",
     "text": [
      "Checkerboard pattern:\n",
      "[[0 1 0 1 0 1 0 1]\n",
      " [1 0 1 0 1 0 1 0]\n",
      " [0 1 0 1 0 1 0 1]\n",
      " [1 0 1 0 1 0 1 0]\n",
      " [0 1 0 1 0 1 0 1]\n",
      " [1 0 1 0 1 0 1 0]\n",
      " [0 1 0 1 0 1 0 1]\n",
      " [1 0 1 0 1 0 1 0]]\n"
     ]
    }
   ],
   "source": [
    "x = np.ones((3,3))\n",
    "print(\"Checkerboard pattern:\")\n",
    "x = np.zeros((8,8),dtype=int)\n",
    "x[1::2,::2] = 1\n",
    "x[::2,1::2] = 1\n",
    "print(x)"
   ]
  },
  {
   "cell_type": "code",
   "execution_count": 15,
   "metadata": {},
   "outputs": [
    {
     "name": "stdout",
     "output_type": "stream",
     "text": [
      "Original Array:\n",
      "[[0.89524066 0.7836238  0.0997304 ]\n",
      " [0.69606883 0.88045378 0.09034118]\n",
      " [0.30240206 0.4889941  0.50104819]]\n",
      "After normalization:\n",
      "[[1.         0.8613282  0.01166508]\n",
      " [0.75255068 0.98162891 0.        ]\n",
      " [0.26346256 0.49528286 0.51025876]]\n"
     ]
    }
   ],
   "source": [
    "x= np.random.random((3,3))\n",
    "print(\"Original Array:\")\n",
    "print(x)\n",
    "xmax, xmin = x.max(), x.min()\n",
    "x = (x - xmin)/(xmax - xmin)\n",
    "print(\"After normalization:\")\n",
    "print(x)"
   ]
  },
  {
   "cell_type": "code",
   "execution_count": 14,
   "metadata": {},
   "outputs": [
    {
     "name": "stdout",
     "output_type": "stream",
     "text": [
      "Array1:  [ 0 10 20 40 70]\n",
      "Array2:  [10, 30, 40, 70]\n",
      "Common values between two arrays:\n",
      "[10 40 70]\n"
     ]
    }
   ],
   "source": [
    "array1 = np.array([0, 10, 20, 40, 70])\n",
    "print(\"Array1: \",array1)\n",
    "array2 = [10, 30, 40,70]\n",
    "print(\"Array2: \",array2)\n",
    "print(\"Common values between two arrays:\")\n",
    "print(np.intersect1d(array1, array2))"
   ]
  },
  {
   "cell_type": "code",
   "execution_count": 13,
   "metadata": {},
   "outputs": [
    {
     "name": "stdout",
     "output_type": "stream",
     "text": [
      "Yestraday:  2020-11-24\n",
      "Today:  2020-11-25\n",
      "Tomorrow:  2020-11-26\n"
     ]
    }
   ],
   "source": [
    "yesterday = np.datetime64('today', 'D') - np.timedelta64(1, 'D')\n",
    "print(\"Yestraday: \",yesterday)\n",
    "today     = np.datetime64('today', 'D')\n",
    "print(\"Today: \",today)\n",
    "tomorrow  = np.datetime64('today', 'D') + np.timedelta64(1, 'D')\n",
    "print(\"Tomorrow: \",tomorrow)"
   ]
  },
  {
   "cell_type": "code",
   "execution_count": 12,
   "metadata": {},
   "outputs": [
    {
     "name": "stdout",
     "output_type": "stream",
     "text": [
      "First array:\n",
      "[1 0 1 1 0 1]\n",
      "Second array:\n",
      "[0 0 0 1 1 1]\n",
      "Test above two arrays are equal or not!\n",
      "False\n"
     ]
    }
   ],
   "source": [
    "x = np.random.randint(0,2,6)\n",
    "print(\"First array:\")\n",
    "print(x)\n",
    "y = np.random.randint(0,2,6)\n",
    "print(\"Second array:\")\n",
    "print(y)\n",
    "print(\"Test above two arrays are equal or not!\")\n",
    "array_equal = np.allclose(x, y)\n",
    "print(array_equal)"
   ]
  },
  {
   "cell_type": "code",
   "execution_count": 11,
   "metadata": {},
   "outputs": [
    {
     "name": "stdout",
     "output_type": "stream",
     "text": [
      "Original array:\n",
      "[0.1879857  0.59081972 0.06909839 0.78996151 0.44030889 0.45965787\n",
      " 0.76983244 0.23256768 0.31544653 0.44431499 0.37544149 0.04491665\n",
      " 0.11450737 0.69994695 0.57434404]\n",
      "Maximum value replaced by -1:\n",
      "[ 0.1879857   0.59081972  0.06909839 -1.          0.44030889  0.45965787\n",
      "  0.76983244  0.23256768  0.31544653  0.44431499  0.37544149  0.04491665\n",
      "  0.11450737  0.69994695  0.57434404]\n"
     ]
    }
   ],
   "source": [
    "x = np.random.random(15)\n",
    "print(\"Original array:\")\n",
    "print(x)\n",
    "x[x.argmax()] = -1\n",
    "print(\"Maximum value replaced by -1:\")\n",
    "print(x)"
   ]
  },
  {
   "cell_type": "code",
   "execution_count": 10,
   "metadata": {},
   "outputs": [
    {
     "name": "stdout",
     "output_type": "stream",
     "text": [
      "[[0. 0. 0. 0.]\n",
      " [0. 0. 0. 0.]\n",
      " [0. 0. 0. 0.]\n",
      " [0. 0. 0. 0.]]\n"
     ]
    }
   ],
   "source": [
    "np.set_printoptions(threshold=np.inf)\n",
    "x = np.zeros((4, 4))\n",
    "print(x)"
   ]
  },
  {
   "cell_type": "code",
   "execution_count": 9,
   "metadata": {},
   "outputs": [
    {
     "name": "stdout",
     "output_type": "stream",
     "text": [
      "Original matrix:\n",
      "\n",
      "[[0.83914237 0.25927596 0.24181626 0.54106215 0.34982062 0.84074897\n",
      "  0.05705279 0.01285649 0.29002573 0.95864584]\n",
      " [0.97780232 0.45979226 0.46401916 0.71733953 0.10035026 0.11880061\n",
      "  0.19637238 0.15962463 0.92130841 0.16864352]\n",
      " [0.35199892 0.05597943 0.66551347 0.23973194 0.87602681 0.9853074\n",
      "  0.00550662 0.59788363 0.52595073 0.09695448]\n",
      " [0.09219809 0.59247209 0.45387936 0.31413327 0.01401731 0.36473982\n",
      "  0.42825993 0.82839783 0.87196154 0.70424788]\n",
      " [0.6731393  0.81556947 0.63050636 0.90409856 0.80761229 0.20803619\n",
      "  0.9515256  0.56735771 0.06933264 0.34879567]]\n",
      "\n",
      "Subtract the mean of each row of the said matrix:\n",
      "\n",
      "[[ 0.40009766 -0.17976876 -0.19722846  0.10201743 -0.0892241   0.40170425\n",
      "  -0.38199193 -0.42618823 -0.14901898  0.51960112]\n",
      " [ 0.54939701  0.03138695  0.03561386  0.28893422 -0.32805505 -0.3096047\n",
      "  -0.23203293 -0.26878068  0.49290311 -0.25976178]\n",
      " [-0.08808642 -0.38410591  0.22542812 -0.2003534   0.43594146  0.54522206\n",
      "  -0.43457872  0.15779829  0.08586538 -0.34313087]\n",
      " [-0.37423262  0.12604138 -0.01255135 -0.15229744 -0.4524134  -0.10169089\n",
      "  -0.03817079  0.36196712  0.40553083  0.23781716]\n",
      " [ 0.07554192  0.21797209  0.03290898  0.30650118  0.21001491 -0.38956119\n",
      "   0.35392822 -0.03023967 -0.52826474 -0.24880171]]\n"
     ]
    }
   ],
   "source": [
    "print(\"Original matrix:\\n\")\n",
    "X = np.random.rand(5, 10)\n",
    "print(X)\n",
    "print(\"\\nSubtract the mean of each row of the said matrix:\\n\")\n",
    "Y = X - X.mean(axis=1, keepdims=True)\n",
    "print(Y)"
   ]
  },
  {
   "cell_type": "code",
   "execution_count": 8,
   "metadata": {},
   "outputs": [
    {
     "name": "stdout",
     "output_type": "stream",
     "text": [
      "(1, 'Red', 12.2)\n",
      "(2, 'Green', 15.)\n",
      "(3, 'White', 20.)\n"
     ]
    }
   ],
   "source": [
    "a1=np.array([1,2,3,4])\n",
    "a2=np.array(['Red','Green','White','Orange'])\n",
    "a3=np.array([12.20,15,20,40])\n",
    "result= np.core.records.fromarrays([a1, a2, a3],names='a,b,c')\n",
    "print(result[0])\n",
    "print(result[1])\n",
    "print(result[2])"
   ]
  },
  {
   "cell_type": "code",
   "execution_count": 7,
   "metadata": {},
   "outputs": [
    {
     "name": "stdout",
     "output_type": "stream",
     "text": [
      "Original array:\n",
      "[0 1 2 3 4 5 6 7 8 9]\n",
      "[9]\n"
     ]
    }
   ],
   "source": [
    "x = np.arange(10)\n",
    "print(\"Original array:\")\n",
    "print(x)\n",
    "np.random.shuffle(x)\n",
    "n = 1\n",
    "print (x[np.argsort(x)[-n:]])"
   ]
  },
  {
   "cell_type": "code",
   "execution_count": 6,
   "metadata": {},
   "outputs": [
    {
     "name": "stdout",
     "output_type": "stream",
     "text": [
      "Original array:\n",
      "[3 4 1 5 3 2 2 6 2 5 4 4 3 7 1 5 0 8 1 9 3 9 1 3 8 6 6 6 0 6 6 6 7 2 9 2 2\n",
      " 4 4 0]\n",
      "Most frequent value in the above array:\n",
      "6\n"
     ]
    }
   ],
   "source": [
    "x = np.random.randint(0, 10, 40)\n",
    "print(\"Original array:\")\n",
    "print(x)\n",
    "print(\"Most frequent value in the above array:\")\n",
    "print(np.bincount(x).argmax())"
   ]
  },
  {
   "cell_type": "code",
   "execution_count": 5,
   "metadata": {},
   "outputs": [
    {
     "data": {
      "text/plain": [
       "array([68, 14, 17])"
      ]
     },
     "execution_count": 5,
     "metadata": {},
     "output_type": "execute_result"
    }
   ],
   "source": [
    "A = np.random.randint(0,10,(3,3))\n",
    "B= np.random.randint(0,10,(3,3))\n",
    "np.diag(np.dot(A, B))\n",
    "np.sum(A * B.T, axis=1)\n",
    "np.einsum(\"ij,ji->i\", A, B)"
   ]
  },
  {
   "cell_type": "code",
   "execution_count": 4,
   "metadata": {},
   "outputs": [
    {
     "name": "stdout",
     "output_type": "stream",
     "text": [
      "[3. 1. 1. 2. 3. 3. 2. 5. 6. 4.]\n"
     ]
    }
   ],
   "source": [
    "Z = np.ones(10)\n",
    "I = np.random.randint(0,len(Z),20)\n",
    "Z += np.bincount(I, minlength=len(Z))\n",
    "print(Z)"
   ]
  },
  {
   "cell_type": "code",
   "execution_count": null,
   "metadata": {},
   "outputs": [],
   "source": []
  }
 ],
 "metadata": {
  "kernelspec": {
   "display_name": "Python 3",
   "language": "python",
   "name": "python3"
  },
  "language_info": {
   "codemirror_mode": {
    "name": "ipython",
    "version": 3
   },
   "file_extension": ".py",
   "mimetype": "text/x-python",
   "name": "python",
   "nbconvert_exporter": "python",
   "pygments_lexer": "ipython3",
   "version": "3.8.3"
  }
 },
 "nbformat": 4,
 "nbformat_minor": 4
}
