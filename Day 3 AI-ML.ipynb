{
 "cells": [
  {
   "cell_type": "code",
   "execution_count": 2,
   "metadata": {},
   "outputs": [
    {
     "name": "stdout",
     "output_type": "stream",
     "text": [
      "(8+2j)\n"
     ]
    }
   ],
   "source": [
    "a = 18 + 6j\n",
    "b = 10 + 4j\n",
    "c = a - b\n",
    "print(c)"
   ]
  },
  {
   "cell_type": "code",
   "execution_count": 10,
   "metadata": {},
   "outputs": [
    {
     "name": "stdout",
     "output_type": "stream",
     "text": [
      "Enter x = 5\n",
      "1.2584989506418267\n"
     ]
    }
   ],
   "source": [
    "x = int(input(\"Enter x = \"))\n",
    "c = x**(1/7)\n",
    "print(c)"
   ]
  },
  {
   "cell_type": "code",
   "execution_count": 12,
   "metadata": {},
   "outputs": [
    {
     "name": "stdout",
     "output_type": "stream",
     "text": [
      "enter x = 2\n",
      "enter y = 3\n",
      "The value of x after swapping is  3\n",
      "The value of y after swapping is  2\n"
     ]
    }
   ],
   "source": [
    "x = int(input(\"enter x = \"))\n",
    "y = int(input(\"enter y = \"))\n",
    "temp = x\n",
    "x = y\n",
    "y = temp\n",
    "print(\"The value of x after swapping is \",x)\n",
    "print(\"The value of y after swapping is \",y)"
   ]
  },
  {
   "cell_type": "code",
   "execution_count": 6,
   "metadata": {},
   "outputs": [
    {
     "name": "stdout",
     "output_type": "stream",
     "text": [
      "Temperature in Kelvin ( K ) = 311.27777777777777\n"
     ]
    }
   ],
   "source": [
    "def Fahrenheit_to_Kelvin(F): \n",
    "    return 273.5 + ((F - 32.0) * (5.0/9.0))  \n",
    "F = 100\n",
    "print(\"Temperature in Kelvin ( K ) =\",(Fahrenheit_to_Kelvin( F )))"
   ]
  },
  {
   "cell_type": "code",
   "execution_count": 7,
   "metadata": {},
   "outputs": [
    {
     "name": "stdout",
     "output_type": "stream",
     "text": [
      "5 is of type <class 'int'>\n",
      "2.0 is of type <class 'float'>\n",
      "(1+2j) is complex number? True\n"
     ]
    }
   ],
   "source": [
    "a = 5\n",
    "print(a, \"is of type\", type(a))\n",
    "\n",
    "b = 2.0\n",
    "print(b, \"is of type\", type(b))\n",
    "\n",
    "c = 1+2j\n",
    "print(c, \"is complex number?\", isinstance(1+2j,complex))"
   ]
  },
  {
   "cell_type": "code",
   "execution_count": 13,
   "metadata": {},
   "outputs": [
    {
     "name": "stdout",
     "output_type": "stream",
     "text": [
      "enter x = 1\n",
      "enter y = 2\n",
      "Before swapping: \n",
      "Value of x =  1  and y =  2\n",
      "After swapping = \n",
      "Value of x =  2  and y =  1\n"
     ]
    }
   ],
   "source": [
    "x = int(input(\"enter x = \")) \n",
    "y = int(input(\"enter y = \"))\n",
    "print (\"Before swapping: \") \n",
    "print(\"Value of x = \", x, \" and y = \", y) \n",
    "x ^= y  \n",
    "y ^= x\n",
    "x ^= y\n",
    "print (\"After swapping = \") \n",
    "print(\"Value of x = \", x, \" and y = \", y)"
   ]
  },
  {
   "cell_type": "code",
   "execution_count": null,
   "metadata": {},
   "outputs": [],
   "source": []
  },
  {
   "cell_type": "code",
   "execution_count": null,
   "metadata": {},
   "outputs": [],
   "source": []
  }
 ],
 "metadata": {
  "kernelspec": {
   "display_name": "Python 3",
   "language": "python",
   "name": "python3"
  },
  "language_info": {
   "codemirror_mode": {
    "name": "ipython",
    "version": 3
   },
   "file_extension": ".py",
   "mimetype": "text/x-python",
   "name": "python",
   "nbconvert_exporter": "python",
   "pygments_lexer": "ipython3",
   "version": "3.8.3"
  }
 },
 "nbformat": 4,
 "nbformat_minor": 4
}
