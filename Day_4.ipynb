{
 "cells": [
  {
   "cell_type": "code",
   "execution_count": 8,
   "metadata": {},
   "outputs": [
    {
     "name": "stdout",
     "output_type": "stream",
     "text": [
      "Enter complex number: 3-1j\n",
      "Enter complex number: 4+6j\n",
      "Addition of two complex numbers :  (7+5j)\n",
      "Subtraction of two complex numbers :  (-1-7j)\n",
      "Multiplication of two complex numbers :  (18+14j)\n",
      "Division of two complex numbers :  (0.11538461538461539-0.4230769230769231j)\n"
     ]
    }
   ],
   "source": [
    "a = complex(input (\"Enter complex number: \"))\n",
    "b = complex(input (\"Enter complex number: \"))\n",
    "print(\"Addition of two complex numbers : \",(a)+(b))\n",
    "print(\"Subtraction of two complex numbers : \",(a)-(b))\n",
    "print(\"Multiplication of two complex numbers : \",(a)*(b))\n",
    "print(\"Division of two complex numbers : \",(a)/(b))"
   ]
  },
  {
   "cell_type": "markdown",
   "metadata": {},
   "source": [
    "# Range()\n",
    "\n",
    "range() create the sequence of numbers which start with by defalt 0 and increments by 1 and stop before specified number"
   ]
  },
  {
   "cell_type": "code",
   "execution_count": 20,
   "metadata": {},
   "outputs": [
    {
     "name": "stdout",
     "output_type": "stream",
     "text": [
      "0\n",
      "1\n",
      "2\n",
      "3\n",
      "4\n",
      "5\n"
     ]
    }
   ],
   "source": [
    "x = range(6)\n",
    "for n in x:\n",
    "  print(n)"
   ]
  },
  {
   "cell_type": "code",
   "execution_count": 14,
   "metadata": {},
   "outputs": [
    {
     "name": "stdout",
     "output_type": "stream",
     "text": [
      "enter a =5\n",
      "enter b =7\n",
      "divison= 0.7142857142857143\n"
     ]
    }
   ],
   "source": [
    "a = int(input(\"enter a =\")) \n",
    "b = int(input(\"enter b =\"))\n",
    "c = a-b\n",
    "if c == 25 :\n",
    "    print(\"multiplication number = \",a*b)\n",
    "else :\n",
    "    print(\"divison=\",a/b)"
   ]
  },
  {
   "cell_type": "code",
   "execution_count": 17,
   "metadata": {},
   "outputs": [
    {
     "name": "stdout",
     "output_type": "stream",
     "text": [
      "divison of 2 is = 5.0\n",
      "square of that number minus 2 is  98\n",
      "divison of 2 is = 10.0\n",
      "square of that number minus 2 is  398\n",
      "divison of 2 is = 15.0\n",
      "square of that number minus 2 is  898\n",
      "divison of 2 is = 20.0\n",
      "square of that number minus 2 is  1598\n",
      "divison of 2 is = 25.0\n",
      "square of that number minus 2 is  2498\n",
      "divison of 2 is = 30.0\n",
      "square of that number minus 2 is  3598\n",
      "divison of 2 is = 35.0\n",
      "square of that number minus 2 is  4898\n",
      "divison of 2 is = 40.0\n",
      "square of that number minus 2 is  6398\n",
      "divison of 2 is = 45.0\n",
      "square of that number minus 2 is  8098\n",
      "divison of 2 is = 50.0\n",
      "square of that number minus 2 is  9998\n"
     ]
    }
   ],
   "source": [
    "l = [10,20,30,40,50,60,70,80,90,100]\n",
    "for i in l:\n",
    "    print(\"divison of 2 is =\",i/2)\n",
    "    print( \"square of that number minus 2 is \",i**2-2)"
   ]
  },
  {
   "cell_type": "code",
   "execution_count": 18,
   "metadata": {},
   "outputs": [
    {
     "name": "stdout",
     "output_type": "stream",
     "text": [
      "divison of 2 = 2.5\n",
      "greater then 7 = False\n",
      "divison of 2 = 3.0\n",
      "greater then 7 = False\n",
      "divison of 2 = 3.5\n",
      "greater then 7 = False\n",
      "divison of 2 = 2.0\n",
      "greater then 7 = False\n",
      "divison of 2 = 1.5\n",
      "greater then 7 = False\n",
      "divison of 2 = 1.0\n",
      "greater then 7 = False\n",
      "divison of 2 = 8.0\n",
      "greater then 7 = True\n",
      "divison of 2 = 7.0\n",
      "greater then 7 = True\n",
      "divison of 2 = 9.5\n",
      "greater then 7 = True\n",
      "divison of 2 = 9.0\n",
      "greater then 7 = True\n"
     ]
    }
   ],
   "source": [
    "l = [5,6,7,4,3,2,16,14,19,18]\n",
    "for i in l:\n",
    "    print(\"divison of 2 =\",i/2) \n",
    "    print(\"greater then 7 =\",i > 7)"
   ]
  },
  {
   "cell_type": "code",
   "execution_count": 19,
   "metadata": {},
   "outputs": [
    {
     "name": "stdout",
     "output_type": "stream",
     "text": [
      "division of  20 with 2 is grater than 7\n",
      "division of  30 with 2 is grater than 7\n",
      "division of  40 with 2 is grater than 7\n",
      "division of  50 with 2 is grater than 7\n",
      "division of  60 with 2 is grater than 7\n",
      "division of  70 with 2 is grater than 7\n",
      "division of  80 with 2 is grater than 7\n",
      "division of  90 with 2 is grater than 7\n",
      "division of  100 with 2 is grater than 7\n"
     ]
    }
   ],
   "source": [
    "l = [10,20,30,40,50,60,70,80,90,100]\n",
    "for i in l:\n",
    "    if(i/2)>7:\n",
    "        print(\"division of \",i,\"with 2 is grater than 7\")"
   ]
  },
  {
   "cell_type": "code",
   "execution_count": null,
   "metadata": {},
   "outputs": [],
   "source": []
  }
 ],
 "metadata": {
  "kernelspec": {
   "display_name": "Python 3",
   "language": "python",
   "name": "python3"
  },
  "language_info": {
   "codemirror_mode": {
    "name": "ipython",
    "version": 3
   },
   "file_extension": ".py",
   "mimetype": "text/x-python",
   "name": "python",
   "nbconvert_exporter": "python",
   "pygments_lexer": "ipython3",
   "version": "3.8.3"
  }
 },
 "nbformat": 4,
 "nbformat_minor": 4
}
