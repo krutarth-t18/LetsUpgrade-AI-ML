{
 "cells": [
  {
   "cell_type": "code",
   "execution_count": 4,
   "metadata": {},
   "outputs": [
    {
     "name": "stdout",
     "output_type": "stream",
     "text": [
      "3\n",
      "5\n",
      "7\n",
      "11\n",
      "13\n",
      "17\n",
      "19\n",
      "23\n",
      "29\n",
      "31\n",
      "37\n",
      "41\n",
      "43\n",
      "47\n",
      "53\n",
      "59\n",
      "61\n",
      "67\n",
      "71\n",
      "73\n"
     ]
    }
   ],
   "source": [
    "a = 1\n",
    "b = 73\n",
    "  \n",
    "for val in range(a, b + 1): \n",
    "    if val > 1: \n",
    "        for n in range(2, val//2 + 2): \n",
    "            if (val % n) == 0: \n",
    "                break\n",
    "            else: \n",
    "                if n == val//2 + 1: \n",
    "                    print(val)"
   ]
  },
  {
   "cell_type": "code",
   "execution_count": 3,
   "metadata": {},
   "outputs": [
    {
     "name": "stdout",
     "output_type": "stream",
     "text": [
      "hello every one\n",
      "have funny day\n",
      "hello every onehello every one\n",
      "hello every onehave funny day\n",
      "ello\n",
      "ello every one\n",
      "HELLO EVERY ONE\n",
      "have funny day\n",
      "EL\n",
      "fun\n",
      "hi every one\n",
      "False\n",
      "True\n",
      "True\n",
      "1\n"
     ]
    }
   ],
   "source": [
    "a = \"hello every one\"\n",
    "b = \"have funny day\"\n",
    "d =\"HELLO\"\n",
    "c = a\n",
    "print(a)\n",
    "print(b)\n",
    "print(a*2)\n",
    "print(a+b)\n",
    "print(a[1:5])\n",
    "print(a[1::])\n",
    "print(a.upper())\n",
    "print(b.lower())\n",
    "print(a[1:3].upper())\n",
    "print(b[5:8].lower())\n",
    "c = a.replace(\"hello\", \"hi\")\n",
    "print(c)\n",
    "print(a.isupper())\n",
    "print(d.isupper())\n",
    "print(a.islower())\n",
    "print(a.count(\"hello\"))"
   ]
  },
  {
   "cell_type": "code",
   "execution_count": 2,
   "metadata": {},
   "outputs": [
    {
     "name": "stdout",
     "output_type": "stream",
     "text": [
      "enter first string :Hii\n",
      "enter second string :iiH\n",
      "enter string is an anagram\n",
      "the entered string is neither a palindrome and not anagram\n"
     ]
    }
   ],
   "source": [
    "i = str(input(\"enter first string :\"))\n",
    "j = str(input(\"enter second string :\"))\n",
    "def nature():\n",
    "    if sorted(i)==sorted(j):\n",
    "        print(\"enter string is an anagram\")\n",
    "        if i==i[::-1]:\n",
    "            print(\"the entered string is a palindrome\")\n",
    "        else:\n",
    "            print(\"the entered string is neither a palindrome and not anagram\")\n",
    "nature()"
   ]
  },
  {
   "cell_type": "code",
   "execution_count": 1,
   "metadata": {},
   "outputs": [
    {
     "name": "stdout",
     "output_type": "stream",
     "text": [
      "dr darshan ingleaiml traniner\n"
     ]
    }
   ],
   "source": [
    "def remove_str(s):\n",
    "    char_to_remove = \".!@-\"\n",
    "    new_s = s\n",
    "    for char in char_to_remove:\n",
    "        new_s = new_s.lower().replace(char,\"\")\n",
    "    print(new_s)\n",
    "remove_str(\"Dr. Darshan Ingle@AI-ML Traniner\")"
   ]
  }
 ],
 "metadata": {
  "kernelspec": {
   "display_name": "Python 3",
   "language": "python",
   "name": "python3"
  },
  "language_info": {
   "codemirror_mode": {
    "name": "ipython",
    "version": 3
   },
   "file_extension": ".py",
   "mimetype": "text/x-python",
   "name": "python",
   "nbconvert_exporter": "python",
   "pygments_lexer": "ipython3",
   "version": "3.8.3"
  }
 },
 "nbformat": 4,
 "nbformat_minor": 4
}
